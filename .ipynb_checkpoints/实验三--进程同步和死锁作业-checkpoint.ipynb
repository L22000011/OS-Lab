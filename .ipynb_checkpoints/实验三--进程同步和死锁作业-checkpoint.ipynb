{
 "cells": [
  {
   "cell_type": "markdown",
   "id": "3c970424",
   "metadata": {},
   "source": [
    "# 实验一生产者消费者问题"
   ]
  },
  {
   "cell_type": "code",
   "execution_count": 14,
   "id": "8afc3377",
   "metadata": {},
   "outputs": [],
   "source": [
    "import threading  #创建和管理线程\n",
    "import time\n",
    "import random\n",
    "import queue #队列数据结构，用于作为缓冲区\n",
    "from tkinter import *  #tkinter库：用于创建图形界面的窗口和控件\n",
    "from tkinter.scrolledtext import ScrolledText  #ScrolledText类：是tkinter库中的一个控件，用于创建可滚动的文本框。"
   ]
  },
  {
   "cell_type": "markdown",
   "id": "c5ceefc0",
   "metadata": {},
   "source": [
    "## 创建全局变量和对象："
   ]
  },
  {
   "cell_type": "code",
   "execution_count": 15,
   "id": "104f041f",
   "metadata": {},
   "outputs": [],
   "source": [
    "# 创建一个全局变量的互斥锁\n",
    "mutex = threading.Lock()\n",
    "# 创建一个空队列作为缓冲区\n",
    "buffer = queue.Queue()\n",
    "# 创建一个信号量，用于控制缓冲区的空槽位\n",
    "empty_slots = threading.Semaphore(10)   #empty_slots：信号量，表示可用的空槽位数，用于控制生产者是否能继续生产\n",
    "# 创建一个信号量，用于控制缓冲区的已占用槽位\n",
    "occupied_slots = threading.Semaphore(0)  #occupied_slots：信号量，表示已占用的槽位数，用于控制消费者是否能继续消费"
   ]
  },
  {
   "cell_type": "markdown",
   "id": "3e7fc567",
   "metadata": {},
   "source": [
    "## 生产者线程类"
   ]
  },
  {
   "cell_type": "code",
   "execution_count": 16,
   "id": "04385f03",
   "metadata": {},
   "outputs": [],
   "source": [
    "class ProducerThread(threading.Thread):\n",
    "    def run(self):\n",
    "        while True:\n",
    "            # 模拟生产时间\n",
    "            time.sleep(random.randint(1, 5))\n",
    "            # 生成一个随机数据\n",
    "            data = random.randint(1, 100)\n",
    "            \n",
    "            # 请求一个空槽位\n",
    "            empty_slots.acquire()\n",
    "            \n",
    "            # 获取互斥锁，保证缓冲区的安全访问\n",
    "            mutex.acquire()\n",
    "            buffer.put(data)\n",
    "            # 释放互斥锁\n",
    "            mutex.release()\n",
    "            \n",
    "            # 释放一个已占用槽位\n",
    "            occupied_slots.release()\n",
    "\n",
    "            # 更新界面显示\n",
    "            update_display('生产者生产数: ' + str(data) + '\\n')"
   ]
  },
  {
   "cell_type": "code",
   "execution_count": 17,
   "id": "92e3b9f2",
   "metadata": {},
   "outputs": [
    {
     "data": {
      "text/plain": [
       "'ProducerThread：生产者线程类，继承自threading.Thread。在run方法中，模拟生产者生产数据的过程\\n。首先，通过sleep函数模拟生产的时间间隔。然后，使用empty_slots.acquire()请求一个空槽位\\n，表示生产者可以继续生产。接下来，通过mutex.acquire()获取互斥锁，保证对缓冲区的安全访问。\\n生产者将生成的数据放入缓冲区后，释放互斥锁并通过occupied_slots.release()释放一个已占用槽位。\\n最后，调用update_display函数更新界面显示。ConsumerThread：消费者线程类，继承自threading.Thread。\\n在run方法中，模拟消费者消费数据的过程。与生产者类似，消费者首先通过sleep函数模拟消费的时间间隔。\\n然后，通过occupied_slots.acquire()请求一个已占用槽位，表示消费者可以继续消费。接下来，\\n通过mutex.acquire()获取互斥锁，保证对缓冲区的安全访问。消费者从缓冲区中取出数据后，\\n释放互斥锁并通过empty_slots.release()释放一个空槽位。最后，调用update_display函数更新界面显示。'"
      ]
     },
     "execution_count": 17,
     "metadata": {},
     "output_type": "execute_result"
    },
    {
     "name": "stderr",
     "output_type": "stream",
     "text": [
      "Exception in thread Thread-17:\n",
      "Traceback (most recent call last):\n",
      "Exception in thread Thread-18:\n",
      "Traceback (most recent call last):\n",
      "  File \"D:\\Anaconda\\lib\\threading.py\", line 973, in _bootstrap_inner\n",
      "  File \"D:\\Anaconda\\lib\\threading.py\", line 973, in _bootstrap_inner\n"
     ]
    }
   ],
   "source": [
    "\"\"\"ProducerThread：生产者线程类，继承自threading.Thread。在run方法中，模拟生产者生产数据的过程\n",
    "。首先，通过sleep函数模拟生产的时间间隔。然后，使用empty_slots.acquire()请求一个空槽位\n",
    "，表示生产者可以继续生产。接下来，通过mutex.acquire()获取互斥锁，保证对缓冲区的安全访问。\n",
    "生产者将生成的数据放入缓冲区后，释放互斥锁并通过occupied_slots.release()释放一个已占用槽位。\n",
    "最后，调用update_display函数更新界面显示。ConsumerThread：消费者线程类，继承自threading.Thread。\n",
    "在run方法中，模拟消费者消费数据的过程。与生产者类似，消费者首先通过sleep函数模拟消费的时间间隔。\n",
    "然后，通过occupied_slots.acquire()请求一个已占用槽位，表示消费者可以继续消费。接下来，\n",
    "通过mutex.acquire()获取互斥锁，保证对缓冲区的安全访问。消费者从缓冲区中取出数据后，\n",
    "释放互斥锁并通过empty_slots.release()释放一个空槽位。最后，调用update_display函数更新界面显示。\"\"\""
   ]
  },
  {
   "cell_type": "markdown",
   "id": "4b2ad7cd",
   "metadata": {},
   "source": [
    "## 消费者线程类"
   ]
  },
  {
   "cell_type": "code",
   "execution_count": 18,
   "id": "b23e7cc6",
   "metadata": {},
   "outputs": [],
   "source": [
    "class ConsumerThread(threading.Thread):\n",
    "    def run(self):\n",
    "        while True:\n",
    "            # 模拟消费时间\n",
    "            time.sleep(random.randint(1, 5))\n",
    "            \n",
    "            # 请求一个已占用槽位\n",
    "            occupied_slots.acquire()\n",
    "            \n",
    "            # 获取互斥锁，保证缓冲区的安全访问\n",
    "            mutex.acquire()\n",
    "            data = buffer.get()\n",
    "            # 释放互斥锁\n",
    "            mutex.release()\n",
    "            \n",
    "            # 释放一个空槽位\n",
    "            empty_slots.release()\n",
    "\n",
    "            # 更新界面显示\n",
    "            update_display('消费者消费数: ' + str(data) + '\\n')"
   ]
  },
  {
   "cell_type": "markdown",
   "id": "579f83b1",
   "metadata": {},
   "source": [
    "## 更新界面显示的函数,GUI窗口"
   ]
  },
  {
   "cell_type": "code",
   "execution_count": 19,
   "id": "f77084b9",
   "metadata": {},
   "outputs": [],
   "source": [
    "def update_display(text):\n",
    "    text_widget.insert(END, text)\n",
    "    text_widget.see(END)\n",
    "\n",
    "# 创建GUI窗口\n",
    "root = Tk()\n",
    "root.title('生产者消费者问题')\n",
    "\n",
    "# 创建一个滚动文本框用于显示生产者和消费者的操作记录\n",
    "text_widget = ScrolledText(root, height=70, width=60)\n",
    "text_widget.pack()\n",
    "\n",
    "# 创建生产者线程和消费者线程\n",
    "for i in range(3):\n",
    "    ProducerThread().start()\n",
    "    ConsumerThread().start()\n",
    "\n",
    "# 启动GUI主循环\n",
    "root.mainloop()"
   ]
  },
  {
   "cell_type": "markdown",
   "id": "ee1c336d",
   "metadata": {},
   "source": [
    "## 银行家算法-其他文件"
   ]
  },
  {
   "cell_type": "code",
   "execution_count": null,
   "id": "de5a999c",
   "metadata": {},
   "outputs": [],
   "source": []
  },
  {
   "cell_type": "code",
   "execution_count": null,
   "id": "ac0d0e36",
   "metadata": {},
   "outputs": [],
   "source": []
  },
  {
   "cell_type": "code",
   "execution_count": null,
   "id": "2a2e2df3",
   "metadata": {},
   "outputs": [],
   "source": []
  },
  {
   "cell_type": "code",
   "execution_count": null,
   "id": "51db31f9",
   "metadata": {},
   "outputs": [],
   "source": []
  },
  {
   "cell_type": "code",
   "execution_count": null,
   "id": "67d397de",
   "metadata": {},
   "outputs": [],
   "source": []
  },
  {
   "cell_type": "code",
   "execution_count": null,
   "id": "583140fe",
   "metadata": {},
   "outputs": [],
   "source": []
  },
  {
   "cell_type": "code",
   "execution_count": null,
   "id": "b260f95f",
   "metadata": {},
   "outputs": [],
   "source": []
  },
  {
   "cell_type": "code",
   "execution_count": null,
   "id": "64d79774",
   "metadata": {},
   "outputs": [],
   "source": []
  },
  {
   "cell_type": "code",
   "execution_count": null,
   "id": "bb1fa10f",
   "metadata": {},
   "outputs": [],
   "source": []
  },
  {
   "cell_type": "markdown",
   "id": "8df5f8a2",
   "metadata": {},
   "source": [
    "# 银行家算法"
   ]
  },
  {
   "cell_type": "code",
   "execution_count": 7,
   "id": "a827656d",
   "metadata": {},
   "outputs": [],
   "source": [
    "from tkinter import *\n",
    "from tkinter import messagebox\n",
    "from tkinter import *  #tkinter库：用于创建图形界面的窗口和控件\n",
    "from tkinter.scrolledtext import ScrolledText  #ScrolledText类：是tkinter库中的一个控件，用于创建可滚动的文本框。\n",
    "# 定义全局变量\n",
    "resource_types = ['A', 'B', 'C']\n",
    "resource_matrix = [[5, 5, 9],\n",
    "                   [5, 3, 6],\n",
    "                   [4, 0, 11],\n",
    "                   [4, 2, 5],\n",
    "                   [4, 2, 4]]\n",
    "allocated_matrix = [[2, 1, 2],\n",
    "                    [4, 0, 2],\n",
    "                    [4, 0, 5],\n",
    "                    [2, 0, 4],\n",
    "                    [3, 1, 4]]\n",
    "available_resources = [2, 3, 3]\n",
    "processes = [1, 2, 3, 4, 5]  #进程名\n",
    "request = [0, 0, 0]  # 初始化资源请求\n",
    "def calculate_need_matrix():\n",
    "    need_matrix = []\n",
    "    for i in range(len(resource_matrix)):\n",
    "        need_row = []\n",
    "        for j in range(len(resource_types)):\n",
    "            need_row.append(resource_matrix[i][j] - allocated_matrix[i][j])\n",
    "        need_matrix.append(need_row)\n",
    "    return need_matrix  \n",
    "def is_safe_state():\n",
    "    need_matrix = calculate_need_matrix()\n",
    "    work = available_resources.copy()\n",
    "    finish = [False] * len(processes)\n",
    "    safe_sequence = []\n",
    "    \n",
    "    while True:\n",
    "        found = False\n",
    "        for i in range(len(processes)):\n",
    "            if not finish[i]:\n",
    "                if all(need_matrix[i][j] <= work[j] for j in range(len(resource_types))):\n",
    "                    work = [work[j] + allocated_matrix[i][j] for j in range(len(resource_types))]\n",
    "                    finish[i] = True\n",
    "                    safe_sequence.append(i)\n",
    "                    found = True\n",
    "        if not found:\n",
    "            break\n",
    "\n",
    "    return all(finish), safe_sequence\n",
    "def request_resources():\n",
    "    global request\n",
    "\n",
    "    try:\n",
    "        request = [int(entry_A.get()), int(entry_B.get()), int(entry_C.get())]\n",
    "    except ValueError:\n",
    "        messagebox.showerror('Error', 'Invalid input for resource request.')\n",
    "        return\n",
    "\n",
    "    if any(request[i] < 0 for i in range(len(request))):\n",
    "        messagebox.showerror('Error', 'Resource request should be greater than or equal to zero.')\n",
    "        return\n",
    "\n",
    "    need_matrix = calculate_need_matrix()\n",
    "    work = available_resources.copy()\n",
    "    finish = [False] * len(processes)\n",
    "    safe_sequence = []\n",
    "\n",
    "    process_index = listbox_processes.curselection()\n",
    "    if len(process_index) == 0:\n",
    "        messagebox.showerror('Error', 'Please select a process.')\n",
    "        return\n",
    "    process_index = process_index[0]\n",
    "\n",
    "    if any(request[i] > need_matrix[process_index][i] for i in range(len(request))):\n",
    "        messagebox.showerror('Error', 'Resource request exceeds the maximum need for the process.')\n",
    "        return\n",
    "\n",
    "    if any(request[i] > available_resources[i] for i in range(len(request))):\n",
    "        messagebox.showerror('Error', 'Resource request exceeds the available resources.')\n",
    "        return\n",
    "\n",
    "    for i in range(len(request)):\n",
    "        available_resources[i] -= request[i]\n",
    "        allocated_matrix[process_index][i] += request[i]\n",
    "        need_matrix[process_index][i] -= request[i]\n",
    "\n",
    "    is_safe, sequence = is_safe_state()\n",
    "\n",
    "    if is_safe:\n",
    "        messagebox.showinfo('Safe State', 'The system is in a safe state.\\nSafe sequence: ' + str(sequence))\n",
    "    else:\n",
    "        messagebox.showwarning('Unsafe State', 'The system is in an unsafe state.')\n",
    "\n",
    "    update_display()\n",
    "def update_display():\n",
    "    text_widget.delete('1.0', END)\n",
    "    text_widget.insert(END, 'Available Resources: ' + str(available_resources) + '\\n\\n')\n",
    "    text_widget.insert(END, 'Allocated Matrix:\\n')\n",
    "    for i in range(len(processes)):\n",
    "        text_widget.insert(END, 'P' + str(i) + ': ' + str(allocated_matrix[i]) + '\\n')\n",
    "    text_widget.insert(END, '\\nNeed Matrix:\\n')\n",
    "    need_matrix = calculate_need_matrix()\n",
    "    for i in range(len(processes)):\n",
    "        text_widget.insert(END, 'P' + str(i) + ': ' + str(need_matrix[i]) + '\\n')"
   ]
  },
  {
   "cell_type": "markdown",
   "id": "64ccf9f1",
   "metadata": {},
   "source": [
    "## ① 判断 T0时刻是否为安全状态？若是，请给出安全序列。"
   ]
  },
  {
   "cell_type": "code",
   "execution_count": 8,
   "id": "f7438d49",
   "metadata": {},
   "outputs": [],
   "source": [
    "import numpy as np\n",
    "\n",
    "# 可用资源-----资源总数-分配资源\n",
    "available_resources = [2, 3, 3]\n",
    "\n",
    "# 每个进程的最大资源需求量\n",
    "max_resources = np.array([\n",
    "    [5, 5, 9],\n",
    "    [5, 3, 6],\n",
    "    [4, 0, 11],\n",
    "    [4, 2, 5],\n",
    "    [4, 2, 4]\n",
    "])\n",
    "\n",
    "# 每个进程已分配的资源数量\n",
    "allocated_resources = np.array([\n",
    "    [2, 1, 2],\n",
    "    [4, 0, 2],\n",
    "    [4, 0, 5],\n",
    "    [2, 0, 4],\n",
    "    [3, 1, 4]\n",
    "])\n",
    "\n",
    "# 计算需求矩阵\n",
    "need_matrix = max_resources - allocated_resources\n",
    "\n",
    "# 初始化工作向量和完成数组\n",
    "work = np.array(available_resources)"
   ]
  },
  {
   "cell_type": "code",
   "execution_count": 9,
   "id": "de160015",
   "metadata": {},
   "outputs": [
    {
     "data": {
      "text/plain": [
       "array([2, 3, 3])"
      ]
     },
     "execution_count": 9,
     "metadata": {},
     "output_type": "execute_result"
    }
   ],
   "source": [
    "work"
   ]
  },
  {
   "cell_type": "code",
   "execution_count": 10,
   "id": "610aed75",
   "metadata": {},
   "outputs": [
    {
     "name": "stdout",
     "output_type": "stream",
     "text": [
      "T0时刻不处于安全状态\n"
     ]
    }
   ],
   "source": [
    "finish = np.zeros(len(available_resources), dtype=bool)\n",
    "\n",
    "# 执行安全性算法\n",
    "safe_sequence = []\n",
    "while True:\n",
    "    # 找到一个未完成的进程，且它的需求小于等于当前可用资源\n",
    "    found = False\n",
    "    for i in range(len(available_resources)):\n",
    "        if not finish[i] and np.all(need_matrix[i] <= work):\n",
    "            # 分配资源给该进程\n",
    "            work += allocated_resources[i]\n",
    "            finish[i] = True\n",
    "            safe_sequence.append(i)\n",
    "            found = True\n",
    "\n",
    "    if not found:\n",
    "        break\n",
    "\n",
    "# 判断是否存在安全序列\n",
    "if len(safe_sequence) == len(available_resources):\n",
    "    print(\"T0时刻处于安全状态\")\n",
    "    print(\"安全序列：\", safe_sequence)\n",
    "else:\n",
    "    print(\"T0时刻不处于安全状态\")"
   ]
  },
  {
   "cell_type": "markdown",
   "id": "198413df",
   "metadata": {},
   "source": [
    "## ② 在 T0时刻，对进程 P2 请求资源（m，n，p），m、n、p 分别 是申请的 A、B、C 资源数（大于等于零的整型值，由程序提供接口，让用户动态输入），程序可以判断是否能实施资源分配。"
   ]
  },
  {
   "cell_type": "code",
   "execution_count": 11,
   "id": "0217d4d6",
   "metadata": {},
   "outputs": [],
   "source": [
    "# 创建GUI窗口\n",
    "root = Tk()\n",
    "root.title('Banker\\'s Algorithm')\n",
    "\n",
    "# 创建标签和输入框\n",
    "label_A = Label(root, text='Resource A:')\n",
    "label_A.pack()\n",
    "entry_A = Entry(root)\n",
    "entry_A.pack()\n",
    "\n",
    "label_B = Label(root, text='Resource B:')\n",
    "label_B.pack()\n",
    "entry_B = Entry(root)\n",
    "entry_B.pack()\n",
    "\n",
    "label_C = Label(root, text='Resource C:')\n",
    "label_C.pack()\n",
    "entry_C = Entry(root)\n",
    "entry_C.pack()\n",
    "\n",
    "# 创建进程列表框\n",
    "label_processes = Label(root, text='Processes:')\n",
    "label_processes.pack()\n",
    "listbox_processes = Listbox(root, selectmode=SINGLE)\n",
    "listbox_processes.pack()\n",
    "for i in range(len(processes)):\n",
    "    listbox_processes.insert(END, 'P' + str(processes[i]))\n",
    "\n",
    "# 创建请求按钮3\n",
    "\n",
    "button_request = Button(root, text='Request Resources', command=request_resources)\n",
    "button_request.pack()\n",
    "\n",
    "# 创建滚动文本框用于显示系统状态\n",
    "text_widget = ScrolledText(root, height=30, width=80)\n",
    "text_widget.pack()\n",
    "\n",
    "# 初始化界面显示\n",
    "update_display()\n",
    "\n",
    "# 启动GUI主循环\n",
    "root.mainloop()"
   ]
  },
  {
   "cell_type": "code",
   "execution_count": null,
   "id": "24297b64",
   "metadata": {},
   "outputs": [],
   "source": []
  },
  {
   "cell_type": "code",
   "execution_count": null,
   "id": "b49b8220",
   "metadata": {},
   "outputs": [],
   "source": []
  },
  {
   "cell_type": "code",
   "execution_count": null,
   "id": "ee77096a",
   "metadata": {},
   "outputs": [],
   "source": []
  },
  {
   "cell_type": "code",
   "execution_count": null,
   "id": "ec1acb95",
   "metadata": {},
   "outputs": [],
   "source": []
  },
  {
   "cell_type": "code",
   "execution_count": null,
   "id": "fc5c7efe",
   "metadata": {},
   "outputs": [],
   "source": []
  }
 ],
 "metadata": {
  "hide_input": false,
  "kernelspec": {
   "display_name": "Python 3 (ipykernel)",
   "language": "python",
   "name": "python3"
  },
  "language_info": {
   "codemirror_mode": {
    "name": "ipython",
    "version": 3
   },
   "file_extension": ".py",
   "mimetype": "text/x-python",
   "name": "python",
   "nbconvert_exporter": "python",
   "pygments_lexer": "ipython3",
   "version": "3.9.7"
  },
  "toc": {
   "base_numbering": 1,
   "nav_menu": {},
   "number_sections": true,
   "sideBar": true,
   "skip_h1_title": false,
   "title_cell": "Table of Contents",
   "title_sidebar": "Contents",
   "toc_cell": false,
   "toc_position": {},
   "toc_section_display": true,
   "toc_window_display": false
  },
  "varInspector": {
   "cols": {
    "lenName": 16,
    "lenType": 16,
    "lenVar": 40
   },
   "kernels_config": {
    "python": {
     "delete_cmd_postfix": "",
     "delete_cmd_prefix": "del ",
     "library": "var_list.py",
     "varRefreshCmd": "print(var_dic_list())"
    },
    "r": {
     "delete_cmd_postfix": ") ",
     "delete_cmd_prefix": "rm(",
     "library": "var_list.r",
     "varRefreshCmd": "cat(var_dic_list()) "
    }
   },
   "types_to_exclude": [
    "module",
    "function",
    "builtin_function_or_method",
    "instance",
    "_Feature"
   ],
   "window_display": false
  }
 },
 "nbformat": 4,
 "nbformat_minor": 5
}
