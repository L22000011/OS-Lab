{
 "cells": [
  {
   "cell_type": "code",
   "execution_count": null,
   "id": "2c7e4f91",
   "metadata": {},
   "outputs": [
    {
     "name": "stdout",
     "output_type": "stream",
     "text": [
      "可用资源矩阵变化:\n",
      "T1: [4, 3, 7]\n",
      "T2: [7, 4, 11]\n",
      "T3: [9, 5, 13]\n",
      "T4: [13, 5, 15]\n",
      "T5: [17, 5, 20]\n",
      "\n"
     ]
    }
   ],
   "source": [
    "import numpy as np\n",
    "import tkinter as tk\n",
    "from tkinter import messagebox\n",
    "\n",
    "# 初始资源数\n",
    "available_resources = np.array([2, 3, 3])\n",
    "\n",
    "# 最大资源需求量\n",
    "max_resources = np.array([\n",
    "    [5, 5, 9],\n",
    "    [5, 3, 6],\n",
    "    [4, 0, 11],\n",
    "    [4, 2, 5],\n",
    "    [4, 2, 4]\n",
    "])\n",
    "\n",
    "# 已分配资源数量\n",
    "allocated_resources = np.array([\n",
    "    [2, 1, 2],\n",
    "    [4, 0, 2],\n",
    "    [4, 0, 5],\n",
    "    [2, 0, 4],\n",
    "    [3, 1, 4]\n",
    "])\n",
    "\n",
    "# 需求矩阵\n",
    "need_matrix = max_resources - allocated_resources\n",
    "\n",
    "# 进程数和资源种类数\n",
    "num_processes = len(max_resources)\n",
    "num_resources = len(available_resources)\n",
    "\n",
    "# 安全性算法\n",
    "def check_safety():\n",
    "    global available_resources  # 声明为全局变量\n",
    "    work = np.array(available_resources)\n",
    "    finish = np.zeros(num_processes, dtype=bool)\n",
    "    safe_sequence = []\n",
    "    resource_matrix = []\n",
    "\n",
    "    while True:\n",
    "        found = False\n",
    "        for i in range(num_processes):\n",
    "            if not finish[i] and np.all(need_matrix[i] <= work):\n",
    "                work += allocated_resources[i]\n",
    "                finish[i] = True\n",
    "                safe_sequence.append(i + 1)\n",
    "                resource_matrix.append(list(work))\n",
    "\n",
    "                found = True\n",
    "\n",
    "        if not found:\n",
    "            break\n",
    "\n",
    "    if len(safe_sequence) == num_processes:\n",
    "        messagebox.showinfo(\"安全状态\", \"T0时刻处于安全状态\\n安全序列：\" + str(safe_sequence))\n",
    "        print_resource_matrix(resource_matrix)\n",
    "    else:\n",
    "        messagebox.showerror(\"不安全状态\", \"T0时刻不处于安全状态\")\n",
    "\n",
    "# 打印资源矩阵\n",
    "def print_resource_matrix(resource_matrix):\n",
    "    print(\"可用资源矩阵变化:\")\n",
    "    for i, resources in enumerate(resource_matrix):\n",
    "        print(\"T{}: {}\".format(i+1, resources))\n",
    "    print()\n",
    "\n",
    "# 资源分配\n",
    "def allocate_resources():\n",
    "    global available_resources  # 声明为全局变量\n",
    "    request = []\n",
    "    try:\n",
    "        request.append(int(entry_request_A.get()))\n",
    "        request.append(int(entry_request_B.get()))\n",
    "        request.append(int(entry_request_C.get()))\n",
    "\n",
    "        if np.all(request <= need_matrix[1]) and np.all(request <= available_resources):\n",
    "            if np.all(request <= available_resources):\n",
    "                available_resources -= request\n",
    "                allocated_resources[1] += request\n",
    "                need_matrix[1] -= request\n",
    "                messagebox.showinfo(\"资源分配\", \"可以分配{}个资源给P2\".format(request))\n",
    "                check_safety()\n",
    "            else:\n",
    "                messagebox.showerror(\"资源不足\", \"当前可用资源不足以满足请求\")\n",
    "        else:\n",
    "            messagebox.showerror(\"请求超出需求\", \"请求超出了进程的需求\")\n",
    "\n",
    "    except ValueError:\n",
    "        messagebox.showerror(\"输入错误\", \"请输入有效的资源数量\")\n",
    "\n",
    "# 创建窗口\n",
    "window = tk.Tk()\n",
    "window.title(\"银行家算法\")\n",
    "window.geometry(\"800x150\")\n",
    "\n",
    "# 创建资源请求输入框\n",
    "frame_request = tk.Frame(window)\n",
    "frame_request.pack(pady=10)\n",
    "\n",
    "label_request_A = tk.Label(frame_request, text=\"请求资源 A：\")\n",
    "label_request_A.pack(side=tk.LEFT)\n",
    "entry_request_A = tk.Entry(frame_request)\n",
    "entry_request_A.pack(side=tk.LEFT)\n",
    "\n",
    "label_request_B = tk.Label(frame_request, text=\"请求资源 B：\")\n",
    "label_request_B.pack(side=tk.LEFT)\n",
    "entry_request_B = tk.Entry(frame_request)\n",
    "entry_request_B.pack(side=tk.LEFT)\n",
    "\n",
    "label_request_C = tk.Label(frame_request, text=\"请求资源 C：\")\n",
    "label_request_C.pack(side=tk.LEFT)\n",
    "entry_request_C = tk.Entry(frame_request)\n",
    "entry_request_C.pack(side=tk.LEFT)\n",
    "\n",
    "# 创建资源分配按钮\n",
    "button_allocate = tk.Button(window, text=\"P2请求分配资源数\", command=allocate_resources)\n",
    "button_allocate.pack()\n",
    "\n",
    "# 创建安全性检查按钮\n",
    "button_safety_check = tk.Button(window, text=\"安全性检查\", command=check_safety)\n",
    "button_safety_check.pack()\n",
    "\n",
    "window.mainloop()\n"
   ]
  },
  {
   "cell_type": "code",
   "execution_count": null,
   "id": "6619c311",
   "metadata": {},
   "outputs": [],
   "source": []
  },
  {
   "cell_type": "code",
   "execution_count": 8,
   "id": "11616bbe",
   "metadata": {},
   "outputs": [
    {
     "data": {
      "text/plain": [
       "array([[3, 4, 7],\n",
       "       [1, 3, 4],\n",
       "       [0, 0, 6],\n",
       "       [2, 2, 1],\n",
       "       [1, 1, 0]])"
      ]
     },
     "execution_count": 8,
     "metadata": {},
     "output_type": "execute_result"
    }
   ],
   "source": [
    "need_matrix"
   ]
  },
  {
   "cell_type": "code",
   "execution_count": null,
   "id": "f901027f",
   "metadata": {},
   "outputs": [],
   "source": [
    "可用资源数{2 3 3 }"
   ]
  }
 ],
 "metadata": {
  "hide_input": false,
  "kernelspec": {
   "display_name": "Python 3 (ipykernel)",
   "language": "python",
   "name": "python3"
  },
  "language_info": {
   "codemirror_mode": {
    "name": "ipython",
    "version": 3
   },
   "file_extension": ".py",
   "mimetype": "text/x-python",
   "name": "python",
   "nbconvert_exporter": "python",
   "pygments_lexer": "ipython3",
   "version": "3.9.7"
  },
  "toc": {
   "base_numbering": 1,
   "nav_menu": {},
   "number_sections": true,
   "sideBar": true,
   "skip_h1_title": false,
   "title_cell": "Table of Contents",
   "title_sidebar": "Contents",
   "toc_cell": false,
   "toc_position": {},
   "toc_section_display": true,
   "toc_window_display": false
  },
  "varInspector": {
   "cols": {
    "lenName": 16,
    "lenType": 16,
    "lenVar": 40
   },
   "kernels_config": {
    "python": {
     "delete_cmd_postfix": "",
     "delete_cmd_prefix": "del ",
     "library": "var_list.py",
     "varRefreshCmd": "print(var_dic_list())"
    },
    "r": {
     "delete_cmd_postfix": ") ",
     "delete_cmd_prefix": "rm(",
     "library": "var_list.r",
     "varRefreshCmd": "cat(var_dic_list()) "
    }
   },
   "types_to_exclude": [
    "module",
    "function",
    "builtin_function_or_method",
    "instance",
    "_Feature"
   ],
   "window_display": false
  }
 },
 "nbformat": 4,
 "nbformat_minor": 5
}
