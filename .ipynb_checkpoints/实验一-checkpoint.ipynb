{
 "cells": [
  {
   "cell_type": "markdown",
   "id": "6dc7caa4",
   "metadata": {},
   "source": [
    "# 实验一  -- C代码"
   ]
  },
  {
   "cell_type": "code",
   "execution_count": null,
   "id": "bef54d72",
   "metadata": {},
   "outputs": [],
   "source": [
    "'''MAX'''\n",
    "#include <stdio.h>\n",
    "#include <stdlib.h>\n",
    "\n",
    "int main(int argc, char* argv[]) {\n",
    "    int max = atoi(argv[1]);\n",
    "    for (int i = 2; i < argc; i++) {\n",
    "        int num = atoi(argv[i]);\n",
    "        if (num > max) {\n",
    "            max = num;\n",
    "        }\n",
    "    }\n",
    "    printf(\"Maximum value: %d\\n\", max);\n",
    "    return 0;\n",
    "}\n"
   ]
  },
  {
   "cell_type": "code",
   "execution_count": null,
   "id": "e76fd325",
   "metadata": {},
   "outputs": [],
   "source": [
    "'''MIN'''\n",
    "#include <stdio.h>\n",
    "#include <stdlib.h>\n",
    "\n",
    "int main(int argc, char* argv[]) {\n",
    "    int min = atoi(argv[1]);\n",
    "    for (int i = 2; i < argc; i++) {\n",
    "        int num = atoi(argv[i]);\n",
    "        if (num < min) {\n",
    "            min = num;\n",
    "        }\n",
    "    }\n",
    "    printf(\"Minimum value: %d\\n\", min);\n",
    "    return 0;\n",
    "}\n"
   ]
  },
  {
   "cell_type": "code",
   "execution_count": null,
   "id": "619cdedd",
   "metadata": {},
   "outputs": [],
   "source": [
    "'''Average'''\n",
    "#include <stdio.h>\n",
    "#include <stdlib.h>\n",
    "\n",
    "int main(int argc, char* argv[]) {\n",
    "    int sum = 0;\n",
    "    for (int i = 1; i < argc; i++) {\n",
    "        sum += atoi(argv[i]);\n",
    "    }\n",
    "    double average = (double)sum / (argc - 1);\n",
    "    printf(\"Average value: %.2f\\n\", average);\n",
    "    return 0;\n",
    "}"
   ]
  },
  {
   "cell_type": "code",
   "execution_count": null,
   "id": "a0bab142",
   "metadata": {},
   "outputs": [],
   "source": [
    "'''command.c'''\n",
    "  1 #include <stdio.h>\n",
    "  2 #include <stdlib.h>\n",
    "  3 #include <string.h>\n",
    "  4 #include <unistd.h>\n",
    "  5 #include <sys/wait.h>\n",
    "  6 #include <sys/types.h>\n",
    "  7 \n",
    "  8 #define MAX_COMMAND_LENGTH 100\n",
    "  9 \n",
    " 10 void executeCommand(const char* command) {\n",
    " 11     char commandCopy[MAX_COMMAND_LENGTH];\n",
    " 12     strcpy(commandCopy, command);\n",
    " 13 \n",
    " 14     char* args[MAX_COMMAND_LENGTH];\n",
    " 15     char* token = strtok(commandCopy, \" \");\n",
    " 16     int i = 0;\n",
    " 17 \n",
    " 18     while (token != NULL && i < MAX_COMMAND_LENGTH - 1) {\n",
    " 19         args[i] = token;\n",
    " 20         token = strtok(NULL, \" \");\n",
    " 21         i++;\n",
    " 22     }\n",
    " 23 \n",
    " 24     args[i] = NULL;\n",
    " 25 \n",
    " 26    // 获取当前程序的路径 \n",
    " 27     char currentPath[MAX_COMMAND_LENGTH];\n",
    " 28     getcwd(currentPath, sizeof(currentPath));\n",
    " 29 \n",
    " 30    // 构建完整的可执行文件路径\n",
    " 31     char executablePath[MAX_COMMAND_LENGTH];\n",
    " 32     sprintf(executablePath, \"%s/%s\", currentPath, args[0]);\n",
    "33 \n",
    " 34     execvp(executablePath, args);\n",
    " 35     perror(\"-1------>[execvp error]\");\n",
    " 36     exit(1);\n",
    " 37 }\n",
    " 38 \n",
    " 39 \n",
    " 40 int main() {\n",
    " 41     pid_t childPid1, childPid2;\n",
    " 42     int status;\n",
    " 43 \n",
    " 44     while (1) {\n",
    " 45         printf(\"输入一条指令(max, min, average),直到输入 'quit' to exit:\\n\");\n",
    " 46         printf(\"指令格式如{max/min/average} num1，num2, num_m\\n\");\n",
    " 47         printf(\">> \");\n",
    " 48 \n",
    " 49         char command[MAX_COMMAND_LENGTH];\n",
    " 50         fgets(command, MAX_COMMAND_LENGTH, stdin);\n",
    " 51         command[strcspn(command, \"\\n\")] = '\\0';\n",
    " 52 \n",
    " 53         if (strcmp(command, \"quit\") == 0) {\n",
    " 54             break;\n",
    " 55         }\n",
    " 56 \n",
    " 57         childPid1 = fork();\n",
    " 58 \n",
    " 59         if (childPid1 == -1) {\n",
    " 60             perror(\"fork error\");\n",
    "            exit(1);\n",
    " 62         } else if (childPid1 == 0) {\n",
    " 63             // Child process 1\n",
    " 64             executeCommand(command);\n",
    " 65         } else {\n",
    " 66             // Parent process\n",
    " 67             waitpid(childPid1, &status, 0);\n",
    " 68         }\n",
    " 69     }\n",
    " 70 \n",
    " 71     return 0;\n",
    " 72 }\n",
    " 73 "
   ]
  },
  {
   "cell_type": "markdown",
   "id": "b985aecc",
   "metadata": {},
   "source": [
    "## fork1.c"
   ]
  },
  {
   "cell_type": "code",
   "execution_count": null,
   "id": "ae348fd0",
   "metadata": {},
   "outputs": [],
   "source": [
    "#include <stdio.h>\n",
    "  2 #include <sys/stat.h>\n",
    "  3 #include <unistd.h>\n",
    "  4 int main() {\n",
    "  5     pid_t id = fork();\n",
    "  6     if (id < 0) {\n",
    "  7         perror(\"子进程创建失败！\");\n",
    "  8     } else {\n",
    "  9         if (id == 0) {\n",
    " 10             printf(\"子进程工作:PID=%d,PPID=%d\\n\", getpid(), getppid());\n",
    " 11         }else\n",
    " 12         {\n",
    " 13             printf(\"父进程工作:PID=%d,PPID=%d，子进程PID=%d\\n\", getpid(), getppid(),id);\n",
    " 14             sleep(5);\n",
    " 15         }\n",
    " 16     }\n",
    " 17 }\n"
   ]
  },
  {
   "cell_type": "markdown",
   "id": "ff836b28",
   "metadata": {},
   "source": [
    "## fork2.c"
   ]
  },
  {
   "cell_type": "code",
   "execution_count": null,
   "id": "2f5da8c6",
   "metadata": {},
   "outputs": [],
   "source": [
    " 1 #include<stdio.h>\n",
    "  2 #include<unistd.h>\n",
    "  3 int main()\n",
    "  4 {\n",
    "  5         if(fork()==0){\n",
    "  6                 printf(\"子进程1的pid = %d,子进程的ppid = %d\\n\",getpid(),getppid());\n",
    "  7         }\n",
    "  8         else{\n",
    "  9                 if(fork()==0){\n",
    " 10                         printf(\"子进程2的pid = %d,子进程的ppid = %d\\n\",getpid(),getppid());\n",
    " 11                 }\n",
    " 12                 else{\n",
    " 13                         printf(\"父进程的pid = %d,父进程的ppid = %d\\n\",getpid(),getppid());\n",
    " 14                 }\n",
    " 15         }\n",
    " 16         return 0;\n",
    " 17 }"
   ]
  },
  {
   "cell_type": "code",
   "execution_count": null,
   "id": "6a7a8ece",
   "metadata": {},
   "outputs": [],
   "source": []
  }
 ],
 "metadata": {
  "hide_input": false,
  "kernelspec": {
   "display_name": "Python 3 (ipykernel)",
   "language": "python",
   "name": "python3"
  },
  "language_info": {
   "codemirror_mode": {
    "name": "ipython",
    "version": 3
   },
   "file_extension": ".py",
   "mimetype": "text/x-python",
   "name": "python",
   "nbconvert_exporter": "python",
   "pygments_lexer": "ipython3",
   "version": "3.9.7"
  },
  "toc": {
   "base_numbering": 1,
   "nav_menu": {},
   "number_sections": true,
   "sideBar": true,
   "skip_h1_title": false,
   "title_cell": "Table of Contents",
   "title_sidebar": "Contents",
   "toc_cell": false,
   "toc_position": {},
   "toc_section_display": true,
   "toc_window_display": false
  },
  "varInspector": {
   "cols": {
    "lenName": 16,
    "lenType": 16,
    "lenVar": 40
   },
   "kernels_config": {
    "python": {
     "delete_cmd_postfix": "",
     "delete_cmd_prefix": "del ",
     "library": "var_list.py",
     "varRefreshCmd": "print(var_dic_list())"
    },
    "r": {
     "delete_cmd_postfix": ") ",
     "delete_cmd_prefix": "rm(",
     "library": "var_list.r",
     "varRefreshCmd": "cat(var_dic_list()) "
    }
   },
   "types_to_exclude": [
    "module",
    "function",
    "builtin_function_or_method",
    "instance",
    "_Feature"
   ],
   "window_display": false
  }
 },
 "nbformat": 4,
 "nbformat_minor": 5
}
