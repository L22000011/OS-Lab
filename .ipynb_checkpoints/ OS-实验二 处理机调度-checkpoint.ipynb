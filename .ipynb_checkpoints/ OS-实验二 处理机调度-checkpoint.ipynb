{
 "cells": [
  {
   "cell_type": "markdown",
   "id": "04c5882a",
   "metadata": {},
   "source": [
    "# OS-实验二 处理机调度"
   ]
  },
  {
   "cell_type": "markdown",
   "id": "4802d9ec",
   "metadata": {},
   "source": [
    "## 定义处理机"
   ]
  },
  {
   "cell_type": "code",
   "execution_count": 15,
   "id": "aedb7364",
   "metadata": {},
   "outputs": [],
   "source": [
    "class Process:\n",
    "    def __init__(self, name, arrival_time, service_time):\n",
    "        self.name = name\n",
    "        self.arrival_time = arrival_time\n",
    "        self.service_time = service_time\n",
    "        self.finish_time = 0\n",
    "        self.turnaround_time = 0\n",
    "        self.weighted_turnaround_time = 0"
   ]
  },
  {
   "cell_type": "markdown",
   "id": "7ab126be",
   "metadata": {},
   "source": [
    "## 定义计算函数FCFS"
   ]
  },
  {
   "cell_type": "code",
   "execution_count": 16,
   "id": "51c0ae7d",
   "metadata": {},
   "outputs": [],
   "source": [
    "def calculate_fcfs(processes):\n",
    "    n = len(processes)\n",
    "    finish_time = 0\n",
    "\n",
    "    for i in range(n):\n",
    "        process = processes[i]\n",
    "        if process.arrival_time > finish_time:\n",
    "            finish_time = process.arrival_time\n",
    "        process.finish_time = finish_time + process.service_time\n",
    "        process.turnaround_time = process.finish_time - process.arrival_time\n",
    "        process.weighted_turnaround_time = process.turnaround_time / process.service_time\n",
    "        finish_time = process.finish_time\n"
   ]
  },
  {
   "cell_type": "markdown",
   "id": "bf55b4a3",
   "metadata": {},
   "source": [
    "## 定义计算函数RR算法"
   ]
  },
  {
   "cell_type": "code",
   "execution_count": 17,
   "id": "fb5f239a",
   "metadata": {},
   "outputs": [],
   "source": [
    "def calculate_rr(processes, time_quantum):\n",
    "    n = len(processes)\n",
    "    remaining_time = [process.service_time for process in processes]\n",
    "    finish_time = 0\n",
    "    current_time = 0\n",
    "\n",
    "    while True:\n",
    "        all_finished = True\n",
    "        for i in range(n):\n",
    "            process = processes[i]\n",
    "            if remaining_time[i] > 0:\n",
    "                all_finished = False\n",
    "                if remaining_time[i] > time_quantum:\n",
    "                    current_time += time_quantum\n",
    "                    remaining_time[i] -= time_quantum\n",
    "                else:\n",
    "                    current_time += remaining_time[i]\n",
    "                    process.finish_time = current_time\n",
    "                    process.turnaround_time = process.finish_time - process.arrival_time\n",
    "                    process.weighted_turnaround_time = process.turnaround_time / process.service_time\n",
    "                    remaining_time[i] = 0\n",
    "\n",
    "        if all_finished:\n",
    "            break"
   ]
  },
  {
   "cell_type": "markdown",
   "id": "23d13eea",
   "metadata": {},
   "source": [
    "## 定义计算函数SJF"
   ]
  },
  {
   "cell_type": "code",
   "execution_count": 18,
   "id": "1a55ddb7",
   "metadata": {},
   "outputs": [],
   "source": [
    "def calculate_sjf(processes):\n",
    "    n = len(processes)\n",
    "    remaining_time = [process.service_time for process in processes]\n",
    "    finish_time = 0\n",
    "\n",
    "    while True:\n",
    "        min_service_time = float('inf')\n",
    "        next_process = -1\n",
    "\n",
    "        for i in range(n):\n",
    "            if remaining_time[i] > 0 and processes[i].arrival_time <= finish_time:\n",
    "                if remaining_time[i] < min_service_time:\n",
    "                    min_service_time = remaining_time[i]\n",
    "                    next_process = i\n",
    "\n",
    "        if next_process == -1:\n",
    "            break\n",
    "\n",
    "        process = processes[next_process]\n",
    "        process.finish_time = finish_time + process.service_time\n",
    "        process.turnaround_time = process.finish_time - process.arrival_time\n",
    "        process.weighted_turnaround_time = process.turnaround_time / process.service_time\n",
    "        remaining_time[next_process] = 0\n",
    "        finish_time = process.finish_time\n"
   ]
  },
  {
   "cell_type": "markdown",
   "id": "f6a67bed",
   "metadata": {},
   "source": [
    "## 定义计算函数HRN算法"
   ]
  },
  {
   "cell_type": "code",
   "execution_count": 19,
   "id": "3f93dc88",
   "metadata": {},
   "outputs": [],
   "source": [
    "def calculate_hrn(processes):\n",
    "    n = len(processes)\n",
    "    remaining_time = [process.service_time for process in processes]\n",
    "    finish_time = 0\n",
    "\n",
    "    while True:\n",
    "        max_response_ratio = -1\n",
    "        next_process = -1\n",
    "\n",
    "        for i in range(n):\n",
    "            if remaining_time[i] > 0 and processes[i].arrival_time <= finish_time:\n",
    "                response_ratio = (finish_time - processes[i].arrival_time + processes[i].service_time) / processes[i].service_time\n",
    "                if response_ratio > max_response_ratio:\n",
    "                    max_response_ratio = response_ratio\n",
    "                    next_process = i\n",
    "\n",
    "        if next_process == -1:\n",
    "            break\n",
    "\n",
    "        process = processes[next_process]\n",
    "        process.finish_time = finish_time + process.service_time\n",
    "        process.turnaround_time = process.finish_time - process.arrival_time\n",
    "        process.weighted_turnaround_time = process.turnaround_time / process.service_time\n",
    "        remaining_time[next_process] = 0\n",
    "        finish_time = process.finish_time"
   ]
  },
  {
   "cell_type": "markdown",
   "id": "e324d1a0",
   "metadata": {},
   "source": [
    "# 定义进程调度实例"
   ]
  },
  {
   "cell_type": "code",
   "execution_count": 20,
   "id": "8b8b617c",
   "metadata": {},
   "outputs": [
    {
     "name": "stdout",
     "output_type": "stream",
     "text": [
      "请输入所有的进程名，用空格分隔：A B C D E\n",
      "请输入到达时间，用空格分隔：0 2 4 6 8 \n",
      "请输入服务时间，用空格分隔：3 6 4 5 2\n"
     ]
    }
   ],
   "source": [
    "# 获取进程名输入\n",
    "process_names = input(\"请输入所有的进程名，用空格分隔：\").split()\n",
    "\n",
    "# 获取到达时间输入\n",
    "arrival_times = input(\"请输入到达时间，用空格分隔：\").split()\n",
    "arrival_times = [int(time) for time in arrival_times]\n",
    "\n",
    "# 获取服务时间输入\n",
    "service_times = input(\"请输入服务时间，用空格分隔：\").split()\n",
    "service_times = [int(time) for time in service_times]\n",
    "\n",
    "# 创建进程对象列表\n",
    "processes = []\n",
    "for i in range(len(process_names)):\n",
    "    process = Process(process_names[i], arrival_times[i], service_times[i])\n",
    "    processes.append(process)"
   ]
  },
  {
   "cell_type": "code",
   "execution_count": null,
   "id": "9d0daa76",
   "metadata": {},
   "outputs": [],
   "source": [
    "\"\"\"请输入所有的进程名：A B C D E\n",
    "请输入到达时间用空格分隔：0 2 4 6 8 \n",
    "请输入服务时间，用空格分隔：3 6 4 5 2 \"\"\""
   ]
  },
  {
   "cell_type": "markdown",
   "id": "0b2c7398",
   "metadata": {},
   "source": [
    "## FCFS,RR,SJF,HRN结果"
   ]
  },
  {
   "cell_type": "code",
   "execution_count": 21,
   "id": "9dc096e2",
   "metadata": {},
   "outputs": [
    {
     "name": "stdout",
     "output_type": "stream",
     "text": [
      "FCFS算法:\n",
      "进程A: 完成时间=3, 周转时间=3, 带权周转时间=1.0\n",
      "进程B: 完成时间=9, 周转时间=7, 带权周转时间=1.1666666666666667\n",
      "进程C: 完成时间=13, 周转时间=9, 带权周转时间=2.25\n",
      "进程D: 完成时间=18, 周转时间=12, 带权周转时间=2.4\n",
      "进程E: 完成时间=20, 周转时间=12, 带权周转时间=6.0\n",
      "\n",
      "轮转法（RR）算法:\n",
      "进程A: 完成时间=11, 周转时间=11, 带权周转时间=3.6666666666666665\n",
      "进程B: 完成时间=20, 周转时间=18, 带权周转时间=3.0\n",
      "进程C: 完成时间=16, 周转时间=12, 带权周转时间=3.0\n",
      "进程D: 完成时间=19, 周转时间=13, 带权周转时间=2.6\n",
      "进程E: 完成时间=10, 周转时间=2, 带权周转时间=1.0\n",
      "\n",
      "最短进程优先（SJF）算法:\n",
      "进程A: 完成时间=3, 周转时间=3, 带权周转时间=1.0\n",
      "进程B: 完成时间=9, 周转时间=7, 带权周转时间=1.1666666666666667\n",
      "进程C: 完成时间=15, 周转时间=11, 带权周转时间=2.75\n",
      "进程D: 完成时间=20, 周转时间=14, 带权周转时间=2.8\n",
      "进程E: 完成时间=11, 周转时间=3, 带权周转时间=1.5\n",
      "\n",
      "最高响应比优先（HRN）算法:\n",
      "进程A: 完成时间=3, 周转时间=3, 带权周转时间=1.0\n",
      "进程B: 完成时间=9, 周转时间=7, 带权周转时间=1.1666666666666667\n",
      "进程C: 完成时间=13, 周转时间=9, 带权周转时间=2.25\n",
      "进程D: 完成时间=20, 周转时间=14, 带权周转时间=2.8\n",
      "进程E: 完成时间=15, 周转时间=7, 带权周转时间=3.5\n"
     ]
    }
   ],
   "source": [
    "# 先来先服务（FCFS）算法\n",
    "calculate_fcfs(processes)\n",
    "print(\"FCFS算法:\")\n",
    "for process in processes:\n",
    "    print(f\"进程{process.name}: 完成时间={process.finish_time}, 周转时间={process.turnaround_time}, 带权周转时间={process.weighted_turnaround_time}\")\n",
    "\n",
    "# 轮转法（RR）算法（时间量子为1）\n",
    "calculate_rr(processes, 1)\n",
    "print(\"\\n轮转法（RR）算法:\")\n",
    "for process in processes:\n",
    "    print(f\"进程{process.name}: 完成时间={process.finish_time}, 周转时间={process.turnaround_time}, 带权周转时间={process.weighted_turnaround_time}\")\n",
    "\n",
    "# 最短进程优先（SJF）算法\n",
    "calculate_sjf(processes)\n",
    "print(\"\\n最短进程优先（SJF）算法:\")\n",
    "for process in processes:\n",
    "    print(f\"进程{process.name}: 完成时间={process.finish_time}, 周转时间={process.turnaround_time}, 带权周转时间={process.weighted_turnaround_time}\")\n",
    "\n",
    "# 最高响应比优先（HRN）算法\n",
    "calculate_hrn(processes)\n",
    "print(\"\\n最高响应比优先（HRN）算法:\")\n",
    "for process in processes:\n",
    "    print(f\"进程{process.name}: 完成时间={process.finish_time}, 周转时间={process.turnaround_time}, 带权周转时间={process.weighted_turnaround_time}\")\n"
   ]
  },
  {
   "cell_type": "markdown",
   "id": "23b41dd7",
   "metadata": {},
   "source": []
  },
  {
   "cell_type": "code",
   "execution_count": null,
   "id": "02c1d1f9",
   "metadata": {},
   "outputs": [],
   "source": []
  },
  {
   "cell_type": "markdown",
   "id": "916a9eab",
   "metadata": {},
   "source": []
  },
  {
   "cell_type": "code",
   "execution_count": null,
   "id": "0764deaa",
   "metadata": {},
   "outputs": [],
   "source": []
  },
  {
   "cell_type": "markdown",
   "id": "5e12b03b",
   "metadata": {},
   "source": []
  },
  {
   "cell_type": "code",
   "execution_count": null,
   "id": "26e5c3e1",
   "metadata": {},
   "outputs": [],
   "source": []
  },
  {
   "cell_type": "code",
   "execution_count": null,
   "id": "96a1084d",
   "metadata": {},
   "outputs": [],
   "source": []
  },
  {
   "cell_type": "code",
   "execution_count": null,
   "id": "b22710d6",
   "metadata": {},
   "outputs": [],
   "source": []
  },
  {
   "cell_type": "code",
   "execution_count": null,
   "id": "2c63f090",
   "metadata": {},
   "outputs": [],
   "source": []
  },
  {
   "cell_type": "code",
   "execution_count": null,
   "id": "cd5e911f",
   "metadata": {},
   "outputs": [],
   "source": []
  },
  {
   "cell_type": "code",
   "execution_count": null,
   "id": "3fbb2fb4",
   "metadata": {},
   "outputs": [],
   "source": []
  },
  {
   "cell_type": "code",
   "execution_count": null,
   "id": "2b4d8169",
   "metadata": {},
   "outputs": [],
   "source": []
  },
  {
   "cell_type": "code",
   "execution_count": null,
   "id": "6f7e8e42",
   "metadata": {},
   "outputs": [],
   "source": []
  },
  {
   "cell_type": "code",
   "execution_count": null,
   "id": "4a421303",
   "metadata": {},
   "outputs": [],
   "source": []
  },
  {
   "cell_type": "code",
   "execution_count": null,
   "id": "01c96b3b",
   "metadata": {},
   "outputs": [],
   "source": []
  },
  {
   "cell_type": "code",
   "execution_count": null,
   "id": "279b5992",
   "metadata": {},
   "outputs": [],
   "source": []
  }
 ],
 "metadata": {
  "hide_input": false,
  "kernelspec": {
   "display_name": "Python 3 (ipykernel)",
   "language": "python",
   "name": "python3"
  },
  "language_info": {
   "codemirror_mode": {
    "name": "ipython",
    "version": 3
   },
   "file_extension": ".py",
   "mimetype": "text/x-python",
   "name": "python",
   "nbconvert_exporter": "python",
   "pygments_lexer": "ipython3",
   "version": "3.9.7"
  },
  "toc": {
   "base_numbering": 1,
   "nav_menu": {},
   "number_sections": true,
   "sideBar": true,
   "skip_h1_title": false,
   "title_cell": "Table of Contents",
   "title_sidebar": "Contents",
   "toc_cell": false,
   "toc_position": {},
   "toc_section_display": true,
   "toc_window_display": false
  },
  "varInspector": {
   "cols": {
    "lenName": 16,
    "lenType": 16,
    "lenVar": 40
   },
   "kernels_config": {
    "python": {
     "delete_cmd_postfix": "",
     "delete_cmd_prefix": "del ",
     "library": "var_list.py",
     "varRefreshCmd": "print(var_dic_list())"
    },
    "r": {
     "delete_cmd_postfix": ") ",
     "delete_cmd_prefix": "rm(",
     "library": "var_list.r",
     "varRefreshCmd": "cat(var_dic_list()) "
    }
   },
   "types_to_exclude": [
    "module",
    "function",
    "builtin_function_or_method",
    "instance",
    "_Feature"
   ],
   "window_display": false
  }
 },
 "nbformat": 4,
 "nbformat_minor": 5
}
